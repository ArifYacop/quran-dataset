{
 "cells": [
  {
   "cell_type": "code",
   "execution_count": 15,
   "metadata": {},
   "outputs": [],
   "source": [
    "import csv\n",
    "import pandas as pd"
   ]
  },
  {
   "cell_type": "code",
   "execution_count": 16,
   "metadata": {},
   "outputs": [
    {
     "data": {
      "text/html": [
       "<div>\n",
       "<style scoped>\n",
       "    .dataframe tbody tr th:only-of-type {\n",
       "        vertical-align: middle;\n",
       "    }\n",
       "\n",
       "    .dataframe tbody tr th {\n",
       "        vertical-align: top;\n",
       "    }\n",
       "\n",
       "    .dataframe thead th {\n",
       "        text-align: right;\n",
       "    }\n",
       "</style>\n",
       "<table border=\"1\" class=\"dataframe\">\n",
       "  <thead>\n",
       "    <tr style=\"text-align: right;\">\n",
       "      <th></th>\n",
       "      <th>Translation Info:\\r\\n#---------------------------\\r\\n# Translation of the meanings of the Noble Qur'an\\r\\n# Language: English\\r\\n# Translation ID: english_saheeh\\r\\n# Source: https://quranenc.com\\r\\n# URL: https://quranenc.com/en/browse/english_saheeh\\r\\n# Last update: 2019-12-24 (v1.1.0-csv.1)\\r\\n# Check for updates: https://quranenc.com/check/english_saheeh/v1.1.0-csv.1\\r\\n# PLEASE DON'T REMOVE THIS IMPORTANT INFORMATION!\\r\\n#---------------------------</th>\n",
       "      <th>Unnamed: 1</th>\n",
       "      <th>Unnamed: 2</th>\n",
       "      <th>Unnamed: 3</th>\n",
       "      <th>Unnamed: 4</th>\n",
       "    </tr>\n",
       "  </thead>\n",
       "  <tbody>\n",
       "    <tr>\n",
       "      <th>0</th>\n",
       "      <td>id</td>\n",
       "      <td>sura</td>\n",
       "      <td>aya</td>\n",
       "      <td>translation</td>\n",
       "      <td>footnotes</td>\n",
       "    </tr>\n",
       "    <tr>\n",
       "      <th>1</th>\n",
       "      <td>1</td>\n",
       "      <td>1</td>\n",
       "      <td>1</td>\n",
       "      <td>(1) In the name of Allāh,[2] the Entirely Merc...</td>\n",
       "      <td>[2]- Allāh is a proper name belonging only to ...</td>\n",
       "    </tr>\n",
       "    <tr>\n",
       "      <th>2</th>\n",
       "      <td>2</td>\n",
       "      <td>1</td>\n",
       "      <td>2</td>\n",
       "      <td>(2) [All] praise is [due] to Allāh, Lord[4] of...</td>\n",
       "      <td>[4]- When referring to Allāh (subḥānahu wa taʿ...</td>\n",
       "    </tr>\n",
       "    <tr>\n",
       "      <th>3</th>\n",
       "      <td>3</td>\n",
       "      <td>1</td>\n",
       "      <td>3</td>\n",
       "      <td>(3) The Entirely Merciful, the Especially Merc...</td>\n",
       "      <td>NaN</td>\n",
       "    </tr>\n",
       "    <tr>\n",
       "      <th>4</th>\n",
       "      <td>4</td>\n",
       "      <td>1</td>\n",
       "      <td>4</td>\n",
       "      <td>(4) Sovereign of the Day of Recompense.[5]</td>\n",
       "      <td>[5]- i.e., repayment and compensation for what...</td>\n",
       "    </tr>\n",
       "    <tr>\n",
       "      <th>5</th>\n",
       "      <td>5</td>\n",
       "      <td>1</td>\n",
       "      <td>5</td>\n",
       "      <td>(5) It is You we worship and You we ask for help.</td>\n",
       "      <td>NaN</td>\n",
       "    </tr>\n",
       "    <tr>\n",
       "      <th>6</th>\n",
       "      <td>6</td>\n",
       "      <td>1</td>\n",
       "      <td>6</td>\n",
       "      <td>(6) Guide us to the straight path -</td>\n",
       "      <td>NaN</td>\n",
       "    </tr>\n",
       "    <tr>\n",
       "      <th>7</th>\n",
       "      <td>7</td>\n",
       "      <td>1</td>\n",
       "      <td>7</td>\n",
       "      <td>(7) The path of those upon whom You have besto...</td>\n",
       "      <td>NaN</td>\n",
       "    </tr>\n",
       "    <tr>\n",
       "      <th>8</th>\n",
       "      <td>8</td>\n",
       "      <td>2</td>\n",
       "      <td>1</td>\n",
       "      <td>(1) Alif, Lām, Meem.[7]</td>\n",
       "      <td>[7]- These are among the fourteen opening lett...</td>\n",
       "    </tr>\n",
       "    <tr>\n",
       "      <th>9</th>\n",
       "      <td>9</td>\n",
       "      <td>2</td>\n",
       "      <td>2</td>\n",
       "      <td>(2) This is the Book about which there is no d...</td>\n",
       "      <td>[8]- Literally, \"those who have taqwā,\" i.e., ...</td>\n",
       "    </tr>\n",
       "  </tbody>\n",
       "</table>\n",
       "</div>"
      ],
      "text/plain": [
       "  Translation Info:\\r\\n#---------------------------\\r\\n# Translation of the meanings of the Noble Qur'an\\r\\n# Language: English\\r\\n# Translation ID: english_saheeh\\r\\n# Source: https://quranenc.com\\r\\n# URL: https://quranenc.com/en/browse/english_saheeh\\r\\n# Last update: 2019-12-24 (v1.1.0-csv.1)\\r\\n# Check for updates: https://quranenc.com/check/english_saheeh/v1.1.0-csv.1\\r\\n# PLEASE DON'T REMOVE THIS IMPORTANT INFORMATION!\\r\\n#---------------------------  \\\n",
       "0                                                 id                                                                                                                                                                                                                                                                                                                                                                                                                            \n",
       "1                                                  1                                                                                                                                                                                                                                                                                                                                                                                                                            \n",
       "2                                                  2                                                                                                                                                                                                                                                                                                                                                                                                                            \n",
       "3                                                  3                                                                                                                                                                                                                                                                                                                                                                                                                            \n",
       "4                                                  4                                                                                                                                                                                                                                                                                                                                                                                                                            \n",
       "5                                                  5                                                                                                                                                                                                                                                                                                                                                                                                                            \n",
       "6                                                  6                                                                                                                                                                                                                                                                                                                                                                                                                            \n",
       "7                                                  7                                                                                                                                                                                                                                                                                                                                                                                                                            \n",
       "8                                                  8                                                                                                                                                                                                                                                                                                                                                                                                                            \n",
       "9                                                  9                                                                                                                                                                                                                                                                                                                                                                                                                            \n",
       "\n",
       "  Unnamed: 1 Unnamed: 2                                         Unnamed: 3  \\\n",
       "0       sura        aya                                        translation   \n",
       "1          1          1  (1) In the name of Allāh,[2] the Entirely Merc...   \n",
       "2          1          2  (2) [All] praise is [due] to Allāh, Lord[4] of...   \n",
       "3          1          3  (3) The Entirely Merciful, the Especially Merc...   \n",
       "4          1          4         (4) Sovereign of the Day of Recompense.[5]   \n",
       "5          1          5  (5) It is You we worship and You we ask for help.   \n",
       "6          1          6                (6) Guide us to the straight path -   \n",
       "7          1          7  (7) The path of those upon whom You have besto...   \n",
       "8          2          1                            (1) Alif, Lām, Meem.[7]   \n",
       "9          2          2  (2) This is the Book about which there is no d...   \n",
       "\n",
       "                                          Unnamed: 4  \n",
       "0                                          footnotes  \n",
       "1  [2]- Allāh is a proper name belonging only to ...  \n",
       "2  [4]- When referring to Allāh (subḥānahu wa taʿ...  \n",
       "3                                                NaN  \n",
       "4  [5]- i.e., repayment and compensation for what...  \n",
       "5                                                NaN  \n",
       "6                                                NaN  \n",
       "7                                                NaN  \n",
       "8  [7]- These are among the fourteen opening lett...  \n",
       "9  [8]- Literally, \"those who have taqwā,\" i.e., ...  "
      ]
     },
     "execution_count": 16,
     "metadata": {},
     "output_type": "execute_result"
    }
   ],
   "source": [
    "df = pd.read_csv('english_saheeh.csv')\n",
    "df.head(10)"
   ]
  },
  {
   "cell_type": "code",
   "execution_count": 17,
   "metadata": {},
   "outputs": [],
   "source": [
    "df = df.rename(columns=df.iloc[0]).drop(df.index[0])"
   ]
  },
  {
   "cell_type": "code",
   "execution_count": 18,
   "metadata": {},
   "outputs": [
    {
     "data": {
      "text/plain": [
       "id             object\n",
       "sura           object\n",
       "aya            object\n",
       "translation    object\n",
       "footnotes      object\n",
       "dtype: object"
      ]
     },
     "execution_count": 18,
     "metadata": {},
     "output_type": "execute_result"
    }
   ],
   "source": [
    "df.dtypes"
   ]
  },
  {
   "cell_type": "code",
   "execution_count": 24,
   "metadata": {},
   "outputs": [],
   "source": [
    "from urllib.request import urlopen\n",
    "import json\n",
    "import psycopg2 as db"
   ]
  },
  {
   "cell_type": "code",
   "execution_count": 25,
   "metadata": {},
   "outputs": [
    {
     "name": "stdout",
     "output_type": "stream",
     "text": [
      "You connect database quran successfully\n"
     ]
    }
   ],
   "source": [
    "HOST = \"localhost\"\n",
    "DB = 'quran'\n",
    "DB_USER = 'postgres'\n",
    "DB_PASSWORD = '@Arifyacop99'\n",
    "DB_POST = '5432'\n",
    "try:\n",
    "    conn = psycopg2.connect(\n",
    "        host = HOST,\n",
    "        database = DB,\n",
    "        user = DB_USER,\n",
    "        password = DB_PASSWORD,\n",
    "        port = DB_POST\n",
    ")\n",
    "    print (f\"You connect database \"  + DB +\" successfully\")\n",
    "except psycopg2.Error as e: \n",
    "    print(\"Error: Could not make connection to the Postgres database\")\n",
    "    print(e)\n",
    "\n",
    "try: \n",
    "    cur = conn.cursor()\n",
    "except psycopg2.Error as e: \n",
    "    print(\"Error: Could not get curser to the Database\")\n",
    "    print(e)\n",
    "\n",
    "conn.set_session(autocommit=True)\n"
   ]
  },
  {
   "cell_type": "code",
   "execution_count": 26,
   "metadata": {},
   "outputs": [],
   "source": [
    "try: \n",
    "    cur.execute(\"CREATE TABLE IF NOT EXISTS quran_english_saheeh (id varchar,sura varchar,aya varchar,translation varchar,footnotes varchar);\")\n",
    "except psycopg2.Error as e: \n",
    "    print(\"Error: Issue creating table\")\n",
    "    print (e)"
   ]
  },
  {
   "cell_type": "code",
   "execution_count": 28,
   "metadata": {},
   "outputs": [],
   "source": [
    "conn_string=\"dbname='quran' host='localhost' user='postgres' password='@Arifyacop99'\"\n",
    "conn=db.connect(conn_string)\n",
    "cur=conn.cursor()"
   ]
  },
  {
   "cell_type": "code",
   "execution_count": 30,
   "metadata": {},
   "outputs": [],
   "source": [
    "df=tuple(df)"
   ]
  },
  {
   "cell_type": "code",
   "execution_count": 33,
   "metadata": {},
   "outputs": [],
   "source": [
    "query = \"insert into quran_english_saheeh (id,sura,aya,translation,footnotes) values(%s,%s,%s,%s,%s)\"\n",
    "# print(cur.mogrify(query,df[1]))\n",
    "\n"
   ]
  },
  {
   "cell_type": "code",
   "execution_count": 34,
   "metadata": {},
   "outputs": [
    {
     "ename": "IndexError",
     "evalue": "string index out of range",
     "output_type": "error",
     "traceback": [
      "\u001b[1;31m---------------------------------------------------------------------------\u001b[0m",
      "\u001b[1;31mIndexError\u001b[0m                                Traceback (most recent call last)",
      "\u001b[1;32m<ipython-input-34-84be444760af>\u001b[0m in \u001b[0;36m<module>\u001b[1;34m\u001b[0m\n\u001b[1;32m----> 1\u001b[1;33m \u001b[0mcur\u001b[0m\u001b[1;33m.\u001b[0m\u001b[0mexecutemany\u001b[0m\u001b[1;33m(\u001b[0m\u001b[0mquery\u001b[0m\u001b[1;33m,\u001b[0m\u001b[0mdf\u001b[0m\u001b[1;33m)\u001b[0m\u001b[1;33m\u001b[0m\u001b[1;33m\u001b[0m\u001b[0m\n\u001b[0m\u001b[0;32m      2\u001b[0m \u001b[0mconn\u001b[0m\u001b[1;33m.\u001b[0m\u001b[0mcommit\u001b[0m\u001b[1;33m(\u001b[0m\u001b[1;33m)\u001b[0m\u001b[1;33m\u001b[0m\u001b[1;33m\u001b[0m\u001b[0m\n",
      "\u001b[1;31mIndexError\u001b[0m: string index out of range"
     ]
    }
   ],
   "source": [
    "cur.executemany(query,df)\n",
    "conn.commit()"
   ]
  },
  {
   "cell_type": "code",
   "execution_count": 22,
   "metadata": {},
   "outputs": [
    {
     "ename": "IndexError",
     "evalue": "string index out of range",
     "output_type": "error",
     "traceback": [
      "\u001b[1;31m---------------------------------------------------------------------------\u001b[0m",
      "\u001b[1;31mIndexError\u001b[0m                                Traceback (most recent call last)",
      "\u001b[1;32m<ipython-input-22-608cfdb7cf9e>\u001b[0m in \u001b[0;36m<module>\u001b[1;34m\u001b[0m\n\u001b[0;32m      2\u001b[0m \u001b[0mdata\u001b[0m \u001b[1;33m=\u001b[0m \u001b[0mdf\u001b[0m\u001b[1;33m\u001b[0m\u001b[1;33m\u001b[0m\u001b[0m\n\u001b[0;32m      3\u001b[0m \u001b[1;31m#print(cur.mogrify(query2,data))\u001b[0m\u001b[1;33m\u001b[0m\u001b[1;33m\u001b[0m\u001b[1;33m\u001b[0m\u001b[0m\n\u001b[1;32m----> 4\u001b[1;33m \u001b[0mcur\u001b[0m\u001b[1;33m.\u001b[0m\u001b[0mexecutemany\u001b[0m\u001b[1;33m(\u001b[0m\u001b[0mquery\u001b[0m\u001b[1;33m,\u001b[0m\u001b[0mdata\u001b[0m\u001b[1;33m)\u001b[0m\u001b[1;33m\u001b[0m\u001b[1;33m\u001b[0m\u001b[0m\n\u001b[0m\u001b[0;32m      5\u001b[0m \u001b[0mconn\u001b[0m\u001b[1;33m.\u001b[0m\u001b[0mcommit\u001b[0m\u001b[1;33m(\u001b[0m\u001b[1;33m)\u001b[0m\u001b[1;33m\u001b[0m\u001b[1;33m\u001b[0m\u001b[0m\n",
      "\u001b[1;31mIndexError\u001b[0m: string index out of range"
     ]
    }
   ],
   "source": [
    "query = \"insert into quran_data (id,sura,aya,translation,footnotes) values(%s,%s,%s,%s,%s)\"\n",
    "data = df\n",
    "#print(cur.mogrify(query2,data))\n",
    "cur.executemany(query,data)\n",
    "conn.commit()\n"
   ]
  }
 ],
 "metadata": {
  "interpreter": {
   "hash": "b3ba2566441a7c06988d0923437866b63cedc61552a5af99d1f4fb67d367b25f"
  },
  "kernelspec": {
   "display_name": "Python 3.8.5",
   "language": "python",
   "name": "python3"
  },
  "language_info": {
   "codemirror_mode": {
    "name": "ipython",
    "version": 3
   },
   "file_extension": ".py",
   "mimetype": "text/x-python",
   "name": "python",
   "nbconvert_exporter": "python",
   "pygments_lexer": "ipython3",
   "version": "3.8.5"
  },
  "orig_nbformat": 4
 },
 "nbformat": 4,
 "nbformat_minor": 2
}
