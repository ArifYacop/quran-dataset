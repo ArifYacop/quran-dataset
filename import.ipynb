{
 "cells": [
  {
   "cell_type": "markdown",
   "metadata": {},
   "source": [
    "read API from https://quranenc.com/en/home/api/\n"
   ]
  },
  {
   "cell_type": "code",
   "execution_count": 14,
   "metadata": {},
   "outputs": [],
   "source": [
    "import requests\n",
    "import pandas as pd"
   ]
  },
  {
   "cell_type": "code",
   "execution_count": 41,
   "metadata": {},
   "outputs": [
    {
     "name": "stdout",
     "output_type": "stream",
     "text": [
      "{'translations': [{'key': 'english_saheeh', 'language_iso_code': 'en', 'version': '1.1.0', 'last_update': 1577134800, 'title': 'English Translation - Saheeh International', 'description': 'Translation of the Quran meanings into English - Saheeh International - Al-Muntada Al-Islami (Islamic Forum)'}, {'key': 'english_hilali_khan', 'language_iso_code': 'en', 'version': '1.1.0', 'last_update': 1577394000, 'title': 'English Translation - Hilali and Khan', 'description': 'Translation of the Quran meanings into English by Taqi-ud-Din Al-Hilali and Muhsen Khan'}, {'key': 'english_rwwad', 'language_iso_code': 'en', 'version': '1.0.2', 'last_update': 1621803600, 'title': 'English Translation - Rowwad Translation Center', 'description': 'Translation of the Quran meanings into Englsih by Rowwad Translation Center in cooperation with Islamhouse.com'}, {'key': 'french_montada', 'language_iso_code': 'fr', 'version': '1.0.0', 'last_update': 1539205200, 'title': 'French Translation - Noor International Center', 'description': 'Translation of the Quran meanings into French, by Dr. Nabil Radwan, published by Noor International Center - was printed in 2017.'}, {'key': 'french_rashid', 'language_iso_code': 'fr', 'version': '1.0.0', 'last_update': 1622974081, 'title': 'French Translation - Rashid Maash', 'description': 'Translation of the Quran meanings into French by Rashid Maash'}, {'key': 'french_hameedullah', 'language_iso_code': 'fr', 'version': '1.0.1', 'last_update': 1641816964, 'title': 'French Translation - Muhammad Hamidullah', 'description': 'Translation of the Quran meanings into French by Muhammad Hamidullah. Corrected by supervision of Rowwad Translation Center. The original translation is available for suggestions, continuous evaluation and development.'}, {'key': 'spanish_garcia', 'language_iso_code': 'es', 'version': '1.0.0', 'last_update': 1615755600, 'title': 'Spanish Translation - Isa Garcia', 'description': 'Translation of the Quran meanings into Spanish by Muhammad Isa Garcia - Printed in 1433 H.'}, {'key': 'spanish_montada_eu', 'language_iso_code': 'es', 'version': '1.0.0', 'last_update': 1539032400, 'title': 'Spanish Translation - Noor International Center', 'description': 'Translation of the Quran meanings into Spanish. published by Noor International Center - was printed in 2017.'}, {'key': 'spanish_montada_latin', 'language_iso_code': 'es', 'version': '1.0.0', 'last_update': 1539032400, 'title': 'Spanish Translation (Latin America) - Noor International', 'description': 'Translation of the Quran meanings into Spanish (Latin America) by Noor International (Ed. 2017)'}, {'key': 'portuguese_nasr', 'language_iso_code': 'pt', 'version': '1.3.1', 'last_update': 1600722000, 'title': 'Portuguese Translation - Helmy Nasr', 'description': 'Translation of the Quran meanings into Portugal by Dr. Helmy Nasr. Corrected by supervision of Rowwad Translation Center -1440.'}, {'key': 'german_bubenheim', 'language_iso_code': 'de', 'version': '1.1.1', 'last_update': 1609966800, 'title': 'German Translation - Bubenheim', 'description': 'Translation of the Quran meanings into German by Abdullah As-Samit (Frank Bubenheim) and Dr. Nadeem Elyas'}, {'key': 'turkish_shaban', 'language_iso_code': 'tr', 'version': '1.1.0', 'last_update': 1577307600, 'title': 'Turkish translation - Shaaban Britsh', 'description': 'Translation of the Quran meanings into Turkish by Shaaban Britsh. Notice: Some referred translated verses corrected by Rowwad Translation Center. The original translation is available for suggestions, continuous evaluation and development.'}, {'key': 'turkish_rwwad', 'language_iso_code': 'tr', 'version': '1.0.0', 'last_update': 1539637200, 'title': 'Turkish translation - Rowwad Tanslation Center', 'description': 'Translation of the Quran meanings into Turkish by Rowwad Translation Center in cooperation with Islamhouse.com in 1440 H.'}, {'key': 'turkish_shahin', 'language_iso_code': 'tr', 'version': '1.0.0', 'last_update': 1495486800, 'title': 'Turkish Translation - Ali Ozek', 'description': 'Translation of the Quran meanings into Turkish by a group of scholars. Corrected by supervision of Rowwad Translation Center. The original translation is available for suggestions, continuous evaluation and development.'}, {'key': 'indonesian_sabiq', 'language_iso_code': 'id', 'version': '1.1.1', 'last_update': 1621717200, 'title': 'Indonesian Translation - Sabeq Company', 'description': 'Translation of the Quran meanings into Indonesian by Sabeq Company, printed in 2016. corrected by Rowwad Translation Center. The original translation is available for suggestions, continuous evaluation and development.'}, {'key': 'indonesian_complex', 'language_iso_code': 'id', 'version': '1.0.0', 'last_update': 1524085200, 'title': 'Indonesian Translation - King Fahd Complex', 'description': 'Translation of the Quran meanings into Indonesian by approved Committee by Indonesian Ministry of Islamic Affairs. Corrected by supervision of Rowwad Translation Center. The original translation is available for suggestions, continuous evaluation and development.'}, {'key': 'indonesian_affairs', 'language_iso_code': 'id', 'version': '1.0.1', 'last_update': 1617483600, 'title': 'Indonesian Translation - Ministry of Islamic Affairs', 'description': 'Translation of the Quran meanings into Indonesian by Indonesian Ministry of Islamic Affairs. Notice: Some referred translated verses corrected by Rowwad Translation Center. The original translation is available for suggestions, continuous evaluation and development.'}, {'key': 'tagalog_rwwad', 'language_iso_code': 'tl', 'version': '1.1.1', 'last_update': 1593378000, 'title': 'Filipino (Tagalog) Translation of Al-Mukhtasar in interpreting the Noble Quran', 'description': 'Translation of the Quran meanings into Tagalog by Rowwad Translation Center with cooperation with Islamhouse.com'}, {'key': 'persian_ih', 'language_iso_code': 'fa', 'version': '1.1.0', 'last_update': 1589058000, 'title': 'Persian Translation - Rowwad Translation Center', 'description': 'Translation of the Quran meanings into Persian by the teamwork of the Persian Dept. in Rowwad Center \\n with cooperation with Islamhouse.com'}, {'key': 'urdu_junagarhi', 'language_iso_code': 'ur', 'version': '1.1.2', 'last_update': 1638182859, 'title': 'Urdu Translation', 'description': 'Translation of the Quran meanings into Urdu by Muhammad Ibrahim Gunakry. Corrected by supervision of Rowwad Translation Center. The original translation is available for suggestions, continuous evaluation and development.'}, {'key': 'kurdish_bamoki', 'language_iso_code': 'ku', 'version': '1.1.0', 'last_update': 1577480400, 'title': 'Kurdish Translation', 'description': 'Translation of the Quran meanings into Kurdish by Muhammad Saleh Bamuky. Corrected by supervision of Rowwad Translation Center. The original translation is available for suggestions, continuous evaluation and development.'}, {'key': 'bosnian_mihanovich', 'language_iso_code': 'bs', 'version': '1.1.0', 'last_update': 1576875600, 'title': 'Bosnian Translation - Muhammad Mihanovich', 'description': 'Translation of the Quran meanings into Bosnian by Muhammad Mihanovich, printed in 2013. some referred verses corrected by Supervision of Rowwad Translation Center. The original translation is available for suggestions, continuous evaluation, and development.'}, {'key': 'bosnian_rwwad', 'language_iso_code': 'bs', 'version': '2.0.0', 'last_update': 1583182800, 'title': 'Bosnian translation - Rowwad Translation Center', 'description': 'Translation of the Quran meanings into Bosnian by Rowwad Translation Center with cooperation with Islamhouse.com'}, {'key': 'albanian_nahi', 'language_iso_code': 'sq', 'version': '1.1.0', 'last_update': 1576962000, 'title': 'Albanian Translation - Hasan Nahi', 'description': 'Translation of the Quran meanings into Albanian by Hasan Nahi, published by Albanian Institute of Islamic Thought and Civilization, printed in 2006.'}, {'key': 'chinese_makin', 'language_iso_code': 'zh', 'version': '1.0.0', 'last_update': 1499893200, 'title': 'Chinese Translation - Muhammad Makin', 'description': 'Translation of the Quran meanings into Chinese by Muhammad Makin. Corrected by supervision of Rowwad Translation Center. The original translation is available for suggestions, continuous evaluation and development.'}, {'key': 'uyghur_saleh', 'language_iso_code': 'ug', 'version': '1.0.0', 'last_update': 1519074000, 'title': 'Uyghur translation - Sh. Muhammad Saleh', 'description': 'Translation of the Quran meanings into Uyghur by Sh. Muhammad Saleh. Corrected by supervision of Rowwad Translation Center. The original translation is available for suggestions, continuous evaluation and development.'}, {'key': 'japanese_saeedsato', 'language_iso_code': 'ja', 'version': '1.0.4', 'last_update': 1619470800, 'title': 'Japanese translation - Saeed Sato', 'description': 'Translation of the Quran meanings into Japanese by Saeed Sato. printed in 1440 H.'}, {'key': 'vietnamese_rwwad', 'language_iso_code': 'vi', 'version': '1.0.4', 'last_update': 1629363240, 'title': 'Vietnamese translation - Rowwad Translation Center', 'description': 'Translation of the Quran meanings into Vietnamese by Rowwad Translation Center with cooperation with Islamhouse.com'}, {'key': 'uzbek_mansour', 'language_iso_code': 'uz', 'version': '1.0.0', 'last_update': 1490389200, 'title': 'Uzbek translation - Alauddin Mansour', 'description': 'Translation of the Quran meanings into Uzbek by Alauddin Mansour, printed in 1430 H. Notice: Some referred translated verses corrected by Rowwad Translation Center. The original translation is available for suggestions, continuous evaluation and development.'}, {'key': 'tajik_arifi', 'language_iso_code': 'tg', 'version': '1.0.0', 'last_update': 1538168400, 'title': 'Tajik translation - Arfy', 'description': 'Translation of the Quran meanings into Tajik by Rowwad Translation Center with cooperation with Islamhouse.com'}, {'key': 'hindi_omari', 'language_iso_code': 'hi', 'version': '1.1.3', 'last_update': 1637062392, 'title': 'Hindi Translation', 'description': 'Translation of the Quran meanings into Indian by Azizul-Haqq Al-Umary.'}, {'key': 'malayalam_kunhi', 'language_iso_code': 'ml', 'version': '1.0.3', 'last_update': 1622322000, 'title': 'Malayalam translation - Abdul-Hamid Haidar Al-Madany and Kanhi Muhammad', 'description': 'Translation of the Quran meanings into Malayalam by Abdul-Hamid Haidar Al-Madany and Kanhi Muhammad.'}, {'key': 'tamil_baqavi', 'language_iso_code': 'ta', 'version': '1.0.1', 'last_update': 1609966800, 'title': 'Tamil Translation - Abdulhamid Albaqoi', 'description': 'Translation of the Quran meanings into Tamil by Sh. Abdulhamid Albaqoi'}, {'key': 'sinhalese_mahir', 'language_iso_code': 'si', 'version': '1.0.2', 'last_update': 1593118800, 'title': 'Sinhalese translation', 'description': 'Translation of the Quran meanings into Sinhalese by Rowwad Translation Center with cooperation with Islamhouse.com'}, {'key': 'assamese_rafeeq', 'language_iso_code': 'as', 'version': '1.0.2', 'last_update': 1618347600, 'title': 'Assamese translation', 'description': 'Translation of the Quran meanings into Assamese by Sh. Rafiqul-Islam Habib Ar-Rahman in 1438 H.'}, {'key': 'khmer_cambodia', 'language_iso_code': 'km', 'version': '1.0.1', 'last_update': 1635148551, 'title': 'Khmer translation', 'description': 'Translation of the Quran meanings into Khmer, published by Development Society of Muslim Cambodian Society. The second edition was issued in 2012.'}, {'key': 'swahili_barawani', 'language_iso_code': 'sw', 'version': '1.0.0', 'last_update': 1615237200, 'title': 'Swahili translation - Ali Muhsen Alberwany', 'description': 'Translation of the Quran meanings into Swahili by Ali Muhsen Alberwany'}, {'key': 'hausa_gummi', 'language_iso_code': 'ha', 'version': '1.2.1', 'last_update': 1609966800, 'title': 'Hausa language - Abu Bakr Jomy', 'description': 'Translation of the Quran meanings into Hausa by Abu Bakr Mahmoud Jomy. Corrected by supervision of Rowwad Translation Center. The original translation is available for suggestions, continuous evaluation and development.'}, {'key': 'amharic_sadiq', 'language_iso_code': 'am', 'version': '1.1.0', 'last_update': 1577221200, 'title': 'Amharic translation', 'description': 'Translation of the Quran meanings into Amharic by Muhammad Sadeq and Muhammad Ath-Thany Habib. Corrected by supervision of Rowwad Translation Center. The original translation is available for suggestions, continuous evaluation and development.'}, {'key': 'yoruba_mikail', 'language_iso_code': 'yo', 'version': '1.0.6', 'last_update': 1637046492, 'title': 'Yoruba translation', 'description': 'Translation of the Quran meanings into Yoruba by Abu Rahima Mikhail Aikweiny, printed in 1432 H.'}, {'key': 'oromo_ababor', 'language_iso_code': 'or', 'version': '1.0.0', 'last_update': 1489870800, 'title': 'Oromo translation', 'description': 'Translation of the Quran meanings into Oromo by Ghaly Ababour Abaghuna, printed in 2009.'}, {'key': 'ankobambara_dayyan', 'language_iso_code': 'nk', 'version': '1.0.3', 'last_update': 1640000672, 'title': \"N'ko translation - Baba Mamadi\", 'description': \"Translation of the meanings of the Noble Qur'an into the N'ko language, translated by Karamo / Baba Mamadi Jani.\"}, {'key': 'kinyarwanda_assoc', 'language_iso_code': 'rw', 'version': '1.0.2', 'last_update': 1632822261, 'title': 'Kinyarwanda Translation', 'description': 'Translation of the Quran meanings into Kinyarwanda by The Rwanda Muslims Association team.'}]}\n"
     ]
    }
   ],
   "source": [
    "url = 'https://quranenc.com/api/v1/translations/list/[[{language}]]/?localization={language_iso_code}'\n",
    "re = requests.get(url)\n",
    "df = re.json()\n",
    "print(df)"
   ]
  },
  {
   "cell_type": "code",
   "execution_count": 34,
   "metadata": {},
   "outputs": [],
   "source": [
    "from urllib.request import urlopen\n",
    "import json\n",
    "import psycopg2"
   ]
  },
  {
   "cell_type": "code",
   "execution_count": 35,
   "metadata": {},
   "outputs": [
    {
     "name": "stdout",
     "output_type": "stream",
     "text": [
      "You connect database quran successfully\n"
     ]
    }
   ],
   "source": [
    "HOST = \"localhost\"\n",
    "DB = 'quran'\n",
    "DB_USER = 'postgres'\n",
    "DB_PASSWORD = '@Arifyacop99'\n",
    "DB_POST = '5432'\n",
    "try:\n",
    "    conn = psycopg2.connect(\n",
    "        host = HOST,\n",
    "        database = DB,\n",
    "        user = DB_USER,\n",
    "        password = DB_PASSWORD,\n",
    "        port = DB_POST\n",
    ")\n",
    "    print (f\"You connect database \"  + DB +\" successfully\")\n",
    "except psycopg2.Error as e: \n",
    "    print(\"Error: Could not make connection to the Postgres database\")\n",
    "    print(e)\n",
    "\n",
    "try: \n",
    "    cur = conn.cursor()\n",
    "except psycopg2.Error as e: \n",
    "    print(\"Error: Could not get curser to the Database\")\n",
    "    print(e)\n",
    "\n",
    "conn.set_session(autocommit=True)\n"
   ]
  },
  {
   "cell_type": "code",
   "execution_count": 60,
   "metadata": {},
   "outputs": [],
   "source": [
    "try: \n",
    "    cur.execute(\"CREATE TABLE IF NOT EXISTS quran_row (key varchar,language_iso_code varchar,version varchar,last_update timestamp,title varchar,discription varchar);\")\n",
    "except psycopg2.Error as e: \n",
    "    print(\"Error: Issue creating table\")\n",
    "    print (e)"
   ]
  },
  {
   "cell_type": "code",
   "execution_count": 55,
   "metadata": {},
   "outputs": [
    {
     "name": "stdout",
     "output_type": "stream",
     "text": [
      "b\"insert into quran_row (key,language_iso_code,version,last_update,title,discription) values(english_saheeh,'Big Bird','Sesame Street','Fakeville','12345','2341')\"\n"
     ]
    }
   ],
   "source": [
    "query = \"insert into quran_row (key,language_iso_code,version,last_update,title,discription) values({},'{}','{}','{}','{}','{}')\".format('english_saheeh','Big Bird','Sesame Street','Fakeville','12345','2341')\n",
    "print(cur.mogrify(query))"
   ]
  },
  {
   "cell_type": "code",
   "execution_count": 56,
   "metadata": {},
   "outputs": [
    {
     "name": "stdout",
     "output_type": "stream",
     "text": [
      "b\"insert into quran_row (key,language_iso_code,version,last_update,title,discription) values(1,'Big Bird','Sesame Street','Fakeville','12345','asgsa')\"\n"
     ]
    }
   ],
   "source": [
    "query2 = \"insert into quran_row (key,language_iso_code,version,last_update,title,discription) values(%s,%s,%s,%s,%s,%s)\"\n",
    "data=(1,'Big Bird','Sesame Street','Fakeville','12345','asgsa')\n",
    "print(cur.mogrify(query2,data))\n",
    "\n"
   ]
  },
  {
   "cell_type": "code",
   "execution_count": 57,
   "metadata": {},
   "outputs": [],
   "source": [
    "cur.execute(query2,data)\n",
    "conn.commit()"
   ]
  },
  {
   "cell_type": "code",
   "execution_count": 61,
   "metadata": {},
   "outputs": [
    {
     "ename": "TypeError",
     "evalue": "not all arguments converted during string formatting",
     "output_type": "error",
     "traceback": [
      "\u001b[1;31m---------------------------------------------------------------------------\u001b[0m",
      "\u001b[1;31mTypeError\u001b[0m                                 Traceback (most recent call last)",
      "\u001b[1;32m<ipython-input-61-bf3d43e12b6b>\u001b[0m in \u001b[0;36m<module>\u001b[1;34m\u001b[0m\n\u001b[0;32m      1\u001b[0m \u001b[0mquery\u001b[0m \u001b[1;33m=\u001b[0m \u001b[1;34m\"insert into quran_row (key,language_iso_code,version,last_update,title,discription) values(%s,%s,%s,%s,%s,%s)\"\u001b[0m\u001b[1;33m\u001b[0m\u001b[1;33m\u001b[0m\u001b[0m\n\u001b[1;32m----> 2\u001b[1;33m \u001b[0mcur\u001b[0m\u001b[1;33m.\u001b[0m\u001b[0mexecutemany\u001b[0m\u001b[1;33m(\u001b[0m\u001b[0mquery\u001b[0m\u001b[1;33m,\u001b[0m\u001b[0mdf\u001b[0m\u001b[1;33m)\u001b[0m\u001b[1;33m\u001b[0m\u001b[1;33m\u001b[0m\u001b[0m\n\u001b[0m\u001b[0;32m      3\u001b[0m \u001b[0mconn\u001b[0m\u001b[1;33m.\u001b[0m\u001b[0mcommit\u001b[0m\u001b[1;33m(\u001b[0m\u001b[1;33m)\u001b[0m\u001b[1;33m\u001b[0m\u001b[1;33m\u001b[0m\u001b[0m\n",
      "\u001b[1;31mTypeError\u001b[0m: not all arguments converted during string formatting"
     ]
    }
   ],
   "source": [
    "query = \"insert into quran_row (key,language_iso_code,version,last_update,title,discription) values(%s,%s,%s,%s,%s,%s)\"\n",
    "cur.executemany(query,df)\n",
    "conn.commit()"
   ]
  },
  {
   "cell_type": "code",
   "execution_count": 74,
   "metadata": {},
   "outputs": [],
   "source": [
    "for i in range(115) :\n",
    "    url = \"https://quranenc.com/api/v1/translation/sura/english_saheeh/\" + str(i)\n",
    "    r = requests.get(url)\n",
    "    j = r.json()"
   ]
  },
  {
   "cell_type": "code",
   "execution_count": 75,
   "metadata": {},
   "outputs": [
    {
     "name": "stdout",
     "output_type": "stream",
     "text": [
      "{'result': [{'id': '6231', 'sura': '114', 'aya': '1', 'arabic_text': 'قُلۡ أَعُوذُ بِرَبِّ ٱلنَّاسِ', 'translation': '(1) Say, \"I seek refuge in the Lord of mankind, ', 'footnotes': ''}, {'id': '6232', 'sura': '114', 'aya': '2', 'arabic_text': 'مَلِكِ ٱلنَّاسِ', 'translation': '(2) The Sovereign of mankind, ', 'footnotes': ''}, {'id': '6233', 'sura': '114', 'aya': '3', 'arabic_text': 'إِلَٰهِ ٱلنَّاسِ', 'translation': '(3) The God of mankind, ', 'footnotes': ''}, {'id': '6234', 'sura': '114', 'aya': '4', 'arabic_text': 'مِن شَرِّ ٱلۡوَسۡوَاسِ ٱلۡخَنَّاسِ', 'translation': '(4) From the evil of the retreating whisperer[2016] -', 'footnotes': '[2016]- i.e., a devil who makes evil suggestions to man but disappears when one remembers Allāh.'}, {'id': '6235', 'sura': '114', 'aya': '5', 'arabic_text': 'ٱلَّذِي يُوَسۡوِسُ فِي صُدُورِ ٱلنَّاسِ', 'translation': '(5) Who whispers [evil] into the breasts of mankind -', 'footnotes': ''}, {'id': '6236', 'sura': '114', 'aya': '6', 'arabic_text': 'مِنَ ٱلۡجِنَّةِ وَٱلنَّاسِ', 'translation': '(6) From among the jinn and mankind\".[2017]', 'footnotes': '[2017]- Evil prompters may be from men as well as from jinn.'}]}\n"
     ]
    }
   ],
   "source": [
    "print(j)"
   ]
  },
  {
   "cell_type": "code",
   "execution_count": 117,
   "metadata": {},
   "outputs": [
    {
     "name": "stdout",
     "output_type": "stream",
     "text": [
      "You connect database quran successfully\n"
     ]
    }
   ],
   "source": [
    "HOST = \"localhost\"\n",
    "DB = 'quran'\n",
    "DB_USER = 'postgres'\n",
    "DB_PASSWORD = '@Arifyacop99'\n",
    "DB_POST = '5432'\n",
    "try:\n",
    "    conn = psycopg2.connect(\n",
    "        host = HOST,\n",
    "        database = DB,\n",
    "        user = DB_USER,\n",
    "        password = DB_PASSWORD,\n",
    "        port = DB_POST\n",
    ")\n",
    "    print (f\"You connect database \"  + DB +\" successfully\")\n",
    "except psycopg2.Error as e: \n",
    "    print(\"Error: Could not make connection to the Postgres database\")\n",
    "    print(e)\n",
    "\n",
    "try: \n",
    "    cur = conn.cursor()\n",
    "except psycopg2.Error as e: \n",
    "    print(\"Error: Could not get curser to the Database\")\n",
    "    print(e)\n",
    "\n",
    "conn.set_session(autocommit=True)\n"
   ]
  },
  {
   "cell_type": "code",
   "execution_count": 118,
   "metadata": {},
   "outputs": [],
   "source": [
    "try: \n",
    "    cur.execute(\"CREATE TABLE IF NOT EXISTS quran_data (id varchar,sura varchar,aya varchar,translation varchar,footnotes varchar);\")\n",
    "except psycopg2.Error as e: \n",
    "    print(\"Error: Issue creating table\")\n",
    "    print (e)"
   ]
  },
  {
   "cell_type": "code",
   "execution_count": 128,
   "metadata": {},
   "outputs": [
    {
     "name": "stdout",
     "output_type": "stream",
     "text": [
      "b'insert into quran_data (id,sura,aya,translation,footnotes) values(\\'6231\\',\\'114\\',\\'1\\',\\'23\\',\\'(1) Say, \"I seek refuge in the Lord of mankind\"\\')'\n"
     ]
    }
   ],
   "source": [
    "query2 = \"insert into quran_data (id,sura,aya,translation,footnotes) values(%s,%s,%s,%s,%s)\"\n",
    "data=('6231','114','1','23','(1) Say, \"I seek refuge in the Lord of mankind\"')\n",
    "print(cur.mogrify(query2,data))\n",
    "\n"
   ]
  },
  {
   "cell_type": "code",
   "execution_count": 129,
   "metadata": {},
   "outputs": [],
   "source": [
    "cur.execute(query2,data)\n",
    "conn.commit()"
   ]
  },
  {
   "cell_type": "code",
   "execution_count": 134,
   "metadata": {},
   "outputs": [],
   "source": [
    "import csv\n",
    "import pandas as pd"
   ]
  },
  {
   "cell_type": "code",
   "execution_count": 136,
   "metadata": {},
   "outputs": [
    {
     "ename": "FileNotFoundError",
     "evalue": "[Errno 2] No such file or directory: 'english_saheeh.csv'",
     "output_type": "error",
     "traceback": [
      "\u001b[1;31m---------------------------------------------------------------------------\u001b[0m",
      "\u001b[1;31mFileNotFoundError\u001b[0m                         Traceback (most recent call last)",
      "\u001b[1;32m<ipython-input-136-1c1fda4dd118>\u001b[0m in \u001b[0;36m<module>\u001b[1;34m\u001b[0m\n\u001b[1;32m----> 1\u001b[1;33m \u001b[0mdf\u001b[0m \u001b[1;33m=\u001b[0m \u001b[0mpd\u001b[0m\u001b[1;33m.\u001b[0m\u001b[0mread_csv\u001b[0m\u001b[1;33m(\u001b[0m\u001b[1;34m'english_saheeh.csv'\u001b[0m\u001b[1;33m)\u001b[0m\u001b[1;33m\u001b[0m\u001b[1;33m\u001b[0m\u001b[0m\n\u001b[0m",
      "\u001b[1;32mC:\\ProgramData\\Anaconda3\\lib\\site-packages\\pandas\\io\\parsers.py\u001b[0m in \u001b[0;36mread_csv\u001b[1;34m(filepath_or_buffer, sep, delimiter, header, names, index_col, usecols, squeeze, prefix, mangle_dupe_cols, dtype, engine, converters, true_values, false_values, skipinitialspace, skiprows, skipfooter, nrows, na_values, keep_default_na, na_filter, verbose, skip_blank_lines, parse_dates, infer_datetime_format, keep_date_col, date_parser, dayfirst, cache_dates, iterator, chunksize, compression, thousands, decimal, lineterminator, quotechar, quoting, doublequote, escapechar, comment, encoding, dialect, error_bad_lines, warn_bad_lines, delim_whitespace, low_memory, memory_map, float_precision)\u001b[0m\n\u001b[0;32m    684\u001b[0m     )\n\u001b[0;32m    685\u001b[0m \u001b[1;33m\u001b[0m\u001b[0m\n\u001b[1;32m--> 686\u001b[1;33m     \u001b[1;32mreturn\u001b[0m \u001b[0m_read\u001b[0m\u001b[1;33m(\u001b[0m\u001b[0mfilepath_or_buffer\u001b[0m\u001b[1;33m,\u001b[0m \u001b[0mkwds\u001b[0m\u001b[1;33m)\u001b[0m\u001b[1;33m\u001b[0m\u001b[1;33m\u001b[0m\u001b[0m\n\u001b[0m\u001b[0;32m    687\u001b[0m \u001b[1;33m\u001b[0m\u001b[0m\n\u001b[0;32m    688\u001b[0m \u001b[1;33m\u001b[0m\u001b[0m\n",
      "\u001b[1;32mC:\\ProgramData\\Anaconda3\\lib\\site-packages\\pandas\\io\\parsers.py\u001b[0m in \u001b[0;36m_read\u001b[1;34m(filepath_or_buffer, kwds)\u001b[0m\n\u001b[0;32m    450\u001b[0m \u001b[1;33m\u001b[0m\u001b[0m\n\u001b[0;32m    451\u001b[0m     \u001b[1;31m# Create the parser.\u001b[0m\u001b[1;33m\u001b[0m\u001b[1;33m\u001b[0m\u001b[1;33m\u001b[0m\u001b[0m\n\u001b[1;32m--> 452\u001b[1;33m     \u001b[0mparser\u001b[0m \u001b[1;33m=\u001b[0m \u001b[0mTextFileReader\u001b[0m\u001b[1;33m(\u001b[0m\u001b[0mfp_or_buf\u001b[0m\u001b[1;33m,\u001b[0m \u001b[1;33m**\u001b[0m\u001b[0mkwds\u001b[0m\u001b[1;33m)\u001b[0m\u001b[1;33m\u001b[0m\u001b[1;33m\u001b[0m\u001b[0m\n\u001b[0m\u001b[0;32m    453\u001b[0m \u001b[1;33m\u001b[0m\u001b[0m\n\u001b[0;32m    454\u001b[0m     \u001b[1;32mif\u001b[0m \u001b[0mchunksize\u001b[0m \u001b[1;32mor\u001b[0m \u001b[0miterator\u001b[0m\u001b[1;33m:\u001b[0m\u001b[1;33m\u001b[0m\u001b[1;33m\u001b[0m\u001b[0m\n",
      "\u001b[1;32mC:\\ProgramData\\Anaconda3\\lib\\site-packages\\pandas\\io\\parsers.py\u001b[0m in \u001b[0;36m__init__\u001b[1;34m(self, f, engine, **kwds)\u001b[0m\n\u001b[0;32m    944\u001b[0m             \u001b[0mself\u001b[0m\u001b[1;33m.\u001b[0m\u001b[0moptions\u001b[0m\u001b[1;33m[\u001b[0m\u001b[1;34m\"has_index_names\"\u001b[0m\u001b[1;33m]\u001b[0m \u001b[1;33m=\u001b[0m \u001b[0mkwds\u001b[0m\u001b[1;33m[\u001b[0m\u001b[1;34m\"has_index_names\"\u001b[0m\u001b[1;33m]\u001b[0m\u001b[1;33m\u001b[0m\u001b[1;33m\u001b[0m\u001b[0m\n\u001b[0;32m    945\u001b[0m \u001b[1;33m\u001b[0m\u001b[0m\n\u001b[1;32m--> 946\u001b[1;33m         \u001b[0mself\u001b[0m\u001b[1;33m.\u001b[0m\u001b[0m_make_engine\u001b[0m\u001b[1;33m(\u001b[0m\u001b[0mself\u001b[0m\u001b[1;33m.\u001b[0m\u001b[0mengine\u001b[0m\u001b[1;33m)\u001b[0m\u001b[1;33m\u001b[0m\u001b[1;33m\u001b[0m\u001b[0m\n\u001b[0m\u001b[0;32m    947\u001b[0m \u001b[1;33m\u001b[0m\u001b[0m\n\u001b[0;32m    948\u001b[0m     \u001b[1;32mdef\u001b[0m \u001b[0mclose\u001b[0m\u001b[1;33m(\u001b[0m\u001b[0mself\u001b[0m\u001b[1;33m)\u001b[0m\u001b[1;33m:\u001b[0m\u001b[1;33m\u001b[0m\u001b[1;33m\u001b[0m\u001b[0m\n",
      "\u001b[1;32mC:\\ProgramData\\Anaconda3\\lib\\site-packages\\pandas\\io\\parsers.py\u001b[0m in \u001b[0;36m_make_engine\u001b[1;34m(self, engine)\u001b[0m\n\u001b[0;32m   1176\u001b[0m     \u001b[1;32mdef\u001b[0m \u001b[0m_make_engine\u001b[0m\u001b[1;33m(\u001b[0m\u001b[0mself\u001b[0m\u001b[1;33m,\u001b[0m \u001b[0mengine\u001b[0m\u001b[1;33m=\u001b[0m\u001b[1;34m\"c\"\u001b[0m\u001b[1;33m)\u001b[0m\u001b[1;33m:\u001b[0m\u001b[1;33m\u001b[0m\u001b[1;33m\u001b[0m\u001b[0m\n\u001b[0;32m   1177\u001b[0m         \u001b[1;32mif\u001b[0m \u001b[0mengine\u001b[0m \u001b[1;33m==\u001b[0m \u001b[1;34m\"c\"\u001b[0m\u001b[1;33m:\u001b[0m\u001b[1;33m\u001b[0m\u001b[1;33m\u001b[0m\u001b[0m\n\u001b[1;32m-> 1178\u001b[1;33m             \u001b[0mself\u001b[0m\u001b[1;33m.\u001b[0m\u001b[0m_engine\u001b[0m \u001b[1;33m=\u001b[0m \u001b[0mCParserWrapper\u001b[0m\u001b[1;33m(\u001b[0m\u001b[0mself\u001b[0m\u001b[1;33m.\u001b[0m\u001b[0mf\u001b[0m\u001b[1;33m,\u001b[0m \u001b[1;33m**\u001b[0m\u001b[0mself\u001b[0m\u001b[1;33m.\u001b[0m\u001b[0moptions\u001b[0m\u001b[1;33m)\u001b[0m\u001b[1;33m\u001b[0m\u001b[1;33m\u001b[0m\u001b[0m\n\u001b[0m\u001b[0;32m   1179\u001b[0m         \u001b[1;32melse\u001b[0m\u001b[1;33m:\u001b[0m\u001b[1;33m\u001b[0m\u001b[1;33m\u001b[0m\u001b[0m\n\u001b[0;32m   1180\u001b[0m             \u001b[1;32mif\u001b[0m \u001b[0mengine\u001b[0m \u001b[1;33m==\u001b[0m \u001b[1;34m\"python\"\u001b[0m\u001b[1;33m:\u001b[0m\u001b[1;33m\u001b[0m\u001b[1;33m\u001b[0m\u001b[0m\n",
      "\u001b[1;32mC:\\ProgramData\\Anaconda3\\lib\\site-packages\\pandas\\io\\parsers.py\u001b[0m in \u001b[0;36m__init__\u001b[1;34m(self, src, **kwds)\u001b[0m\n\u001b[0;32m   2006\u001b[0m         \u001b[0mkwds\u001b[0m\u001b[1;33m[\u001b[0m\u001b[1;34m\"usecols\"\u001b[0m\u001b[1;33m]\u001b[0m \u001b[1;33m=\u001b[0m \u001b[0mself\u001b[0m\u001b[1;33m.\u001b[0m\u001b[0musecols\u001b[0m\u001b[1;33m\u001b[0m\u001b[1;33m\u001b[0m\u001b[0m\n\u001b[0;32m   2007\u001b[0m \u001b[1;33m\u001b[0m\u001b[0m\n\u001b[1;32m-> 2008\u001b[1;33m         \u001b[0mself\u001b[0m\u001b[1;33m.\u001b[0m\u001b[0m_reader\u001b[0m \u001b[1;33m=\u001b[0m \u001b[0mparsers\u001b[0m\u001b[1;33m.\u001b[0m\u001b[0mTextReader\u001b[0m\u001b[1;33m(\u001b[0m\u001b[0msrc\u001b[0m\u001b[1;33m,\u001b[0m \u001b[1;33m**\u001b[0m\u001b[0mkwds\u001b[0m\u001b[1;33m)\u001b[0m\u001b[1;33m\u001b[0m\u001b[1;33m\u001b[0m\u001b[0m\n\u001b[0m\u001b[0;32m   2009\u001b[0m         \u001b[0mself\u001b[0m\u001b[1;33m.\u001b[0m\u001b[0munnamed_cols\u001b[0m \u001b[1;33m=\u001b[0m \u001b[0mself\u001b[0m\u001b[1;33m.\u001b[0m\u001b[0m_reader\u001b[0m\u001b[1;33m.\u001b[0m\u001b[0munnamed_cols\u001b[0m\u001b[1;33m\u001b[0m\u001b[1;33m\u001b[0m\u001b[0m\n\u001b[0;32m   2010\u001b[0m \u001b[1;33m\u001b[0m\u001b[0m\n",
      "\u001b[1;32mpandas\\_libs\\parsers.pyx\u001b[0m in \u001b[0;36mpandas._libs.parsers.TextReader.__cinit__\u001b[1;34m()\u001b[0m\n",
      "\u001b[1;32mpandas\\_libs\\parsers.pyx\u001b[0m in \u001b[0;36mpandas._libs.parsers.TextReader._setup_parser_source\u001b[1;34m()\u001b[0m\n",
      "\u001b[1;31mFileNotFoundError\u001b[0m: [Errno 2] No such file or directory: 'english_saheeh.csv'"
     ]
    }
   ],
   "source": [
    "df = pd.read_csv('english_saheeh.csv')"
   ]
  },
  {
   "cell_type": "code",
   "execution_count": 123,
   "metadata": {},
   "outputs": [
    {
     "name": "stdout",
     "output_type": "stream",
     "text": [
      "{'result': [{'id': '6231', 'sura': '114', 'aya': '1', 'arabic_text': 'قُلۡ أَعُوذُ بِرَبِّ ٱلنَّاسِ', 'translation': '(1) Say, \"I seek refuge in the Lord of mankind, ', 'footnotes': ''}, {'id': '6232', 'sura': '114', 'aya': '2', 'arabic_text': 'مَلِكِ ٱلنَّاسِ', 'translation': '(2) The Sovereign of mankind, ', 'footnotes': ''}, {'id': '6233', 'sura': '114', 'aya': '3', 'arabic_text': 'إِلَٰهِ ٱلنَّاسِ', 'translation': '(3) The God of mankind, ', 'footnotes': ''}, {'id': '6234', 'sura': '114', 'aya': '4', 'arabic_text': 'مِن شَرِّ ٱلۡوَسۡوَاسِ ٱلۡخَنَّاسِ', 'translation': '(4) From the evil of the retreating whisperer[2016] -', 'footnotes': '[2016]- i.e., a devil who makes evil suggestions to man but disappears when one remembers Allāh.'}, {'id': '6235', 'sura': '114', 'aya': '5', 'arabic_text': 'ٱلَّذِي يُوَسۡوِسُ فِي صُدُورِ ٱلنَّاسِ', 'translation': '(5) Who whispers [evil] into the breasts of mankind -', 'footnotes': ''}, {'id': '6236', 'sura': '114', 'aya': '6', 'arabic_text': 'مِنَ ٱلۡجِنَّةِ وَٱلنَّاسِ', 'translation': '(6) From among the jinn and mankind\".[2017]', 'footnotes': '[2017]- Evil prompters may be from men as well as from jinn.'}]}\n"
     ]
    }
   ],
   "source": [
    "import psycopg2 as db\n",
    "import csv\n",
    "# print(data_for_db)\n",
    "\n",
    "conn_string=\"dbname='dataengineering' host='localhost' user='postgres' password='admin'\"\n",
    "conn=db.connect(conn_string)\n",
    "cur=conn.cursor()\n",
    "\n",
    "query = \"insert into users (id,name,street,city,zip) values(%s,%s,%s,%s,%s)\"\n",
    "# print(cur.mogrify(query,data_for_db[1]))\n",
    "\n",
    "cur.executemany(query,data_for_db)\n",
    "conn.commit()\n",
    "query2 = \"select * from users\"\n",
    "\n",
    "cur.execute(query2)\n",
    "print(cur.fetchall())"
   ]
  }
 ],
 "metadata": {
  "interpreter": {
   "hash": "b3ba2566441a7c06988d0923437866b63cedc61552a5af99d1f4fb67d367b25f"
  },
  "kernelspec": {
   "display_name": "Python 3.8.5",
   "language": "python",
   "name": "python3"
  },
  "language_info": {
   "codemirror_mode": {
    "name": "ipython",
    "version": 3
   },
   "file_extension": ".py",
   "mimetype": "text/x-python",
   "name": "python",
   "nbconvert_exporter": "python",
   "pygments_lexer": "ipython3",
   "version": "3.8.5"
  },
  "orig_nbformat": 4
 },
 "nbformat": 4,
 "nbformat_minor": 2
}
